{
 "cells": [
  {
   "cell_type": "code",
   "execution_count": 1,
   "metadata": {},
   "outputs": [
    {
     "data": {
      "text/plain": [
       "False"
      ]
     },
     "execution_count": 1,
     "metadata": {},
     "output_type": "execute_result"
    }
   ],
   "source": [
    "5!=5"
   ]
  },
  {
   "cell_type": "code",
   "execution_count": 7,
   "metadata": {},
   "outputs": [
    {
     "name": "stdout",
     "output_type": "stream",
     "text": [
      "你的年齡 33\n",
      "已成年\n",
      "可以投票\n"
     ]
    }
   ],
   "source": [
    "age = int(input(\"請輸入年齡：\"))\n",
    "print(\"你的年齡\", age)\n",
    "if age >= 18:\n",
    "    print(\"已成年\")\n",
    "    print(\"可以投票\")\n",
    "else:\n",
    "    print(\"未成年\")\n",
    "    print(\"不可以投票\")"
   ]
  },
  {
   "cell_type": "code",
   "execution_count": 33,
   "metadata": {},
   "outputs": [
    {
     "name": "stdout",
     "output_type": "stream",
     "text": [
      "你輸入為 301 超過上限 300，輸入錯誤！請重新輸入\n"
     ]
    }
   ],
   "source": [
    "# 學生總分為 300\n",
    "# 檢查輸入必須 300 分以內\n",
    "# 有些學生可以加分 5%\n",
    "# 如果加分超過 300, 就以 300 分為準\n",
    "\n",
    "scores = int(input(\"請輸入學生分數(最高300)\"))\n",
    "if scores <= 300:\n",
    "    is_add = input(\"學生是否符合條件?(Y/N)\")\n",
    "    #巢狀判斷\n",
    "    if(is_add == \"y\"):\n",
    "        scores *= 1.05\n",
    "        if scores > 300:\n",
    "            scores = 300\n",
    "    print(\"你的分數為 \",round(scores,1))\n",
    "else:\n",
    "    print(\"你輸入為\",scores,\"超過可輸入上限 300，輸入錯誤！請重新輸入\")\n",
    "\n"
   ]
  },
  {
   "cell_type": "code",
   "execution_count": null,
   "metadata": {},
   "outputs": [],
   "source": [
    "# 學生總分為 300\n",
    "# 檢查輸入必須 300 分以內\n",
    "# 有些學生可以加分 5%\n",
    "# 如果加分超過 300, 就以 300 分為準\n",
    "\n",
    "scores = int(input(\"請輸入學生分數(最高300)\"))\n",
    "if scores <= 300:\n",
    "    is_add = input(\"學生是否符合條件?(Y/N)\")\n",
    "    #巢狀判斷\n",
    "    if(is_add == \"y\"):\n",
    "        scores *= 1.05\n",
    "        if scores > 300:\n",
    "            scores = 300\n",
    "    print(\"你的分數為 \",round(scores,1))\n",
    "else:\n",
    "    print(\"你輸入為\",scores,\"超過可輸入上限 300，輸入錯誤！請重新輸入\")\n",
    "\n"
   ]
  },
  {
   "cell_type": "code",
   "execution_count": 41,
   "metadata": {},
   "outputs": [
    {
     "name": "stdout",
     "output_type": "stream",
     "text": [
      "失敗\n"
     ]
    }
   ],
   "source": [
    "distance = float(input(\"請輸入投射距離:\"))\n",
    "#巢狀判斷\n",
    "if distance <= 100:\n",
    "    if distance >= 80:\n",
    "        print(\"成功\")\n",
    "    else:\n",
    "        print(\"失敗\")\n",
    "else:\n",
    "    print(\"失敗\")"
   ]
  },
  {
   "cell_type": "code",
   "execution_count": 51,
   "metadata": {},
   "outputs": [
    {
     "name": "stdout",
     "output_type": "stream",
     "text": [
      "失敗\n"
     ]
    }
   ],
   "source": [
    "distance = float(input(\"請輸入投射距離:\"))\n",
    "#使用邏輯運算子(and / or)\n",
    "if distance >= 80 and distance <= 100:\n",
    "    print(\"成功\")\n",
    "else:\n",
    "    print(\"失敗\")"
   ]
  },
  {
   "cell_type": "code",
   "execution_count": 60,
   "metadata": {},
   "outputs": [
    {
     "name": "stdout",
     "output_type": "stream",
     "text": [
      "成功\n"
     ]
    }
   ],
   "source": [
    "scores = float(input(\"請輸入猜測數據\"))\n",
    "\n",
    "if scores < 80 or scores > 100:\n",
    "    print(\"失敗\")\n",
    "else:\n",
    "    print(\"成功\")"
   ]
  },
  {
   "cell_type": "code",
   "execution_count": null,
   "metadata": {},
   "outputs": [],
   "source": [
    "if(is_add == \"y\"):\n",
    "    scores *= 1.05\n",
    "    print(\"符合加權條件\")\n",
    "    print(\"你輸入的分數為 \", scores)\n",
    "    print(\"加權後的分數為 \", round(scores,1))\n",
    "    if scores > 300:\n",
    "        scores = 300\n",
    "else:\n",
    "    print(\"未符合加權條件\")\n",
    "    print(\"你輸入的分數為 \", scores)"
   ]
  }
 ],
 "metadata": {
  "kernelspec": {
   "display_name": "base",
   "language": "python",
   "name": "python3"
  },
  "language_info": {
   "codemirror_mode": {
    "name": "ipython",
    "version": 3
   },
   "file_extension": ".py",
   "mimetype": "text/x-python",
   "name": "python",
   "nbconvert_exporter": "python",
   "pygments_lexer": "ipython3",
   "version": "3.10.9"
  }
 },
 "nbformat": 4,
 "nbformat_minor": 2
}
