{
 "cells": [
  {
   "cell_type": "code",
   "execution_count": 6,
   "metadata": {},
   "outputs": [
    {
     "name": "stdout",
     "output_type": "stream",
     "text": [
      "半徑為： 2.0 公分\n",
      "圓面積為： 12.566370614359172 平方公分\n"
     ]
    }
   ],
   "source": [
    "import math\n",
    "\n",
    "radius = float(input(\"請輸入半徑(公分)：\"))\n",
    "area = math.pi * radius **2\n",
    "print(\"半徑為：\", radius, \"公分\")\n",
    "print(\"圓面積為：\", area, \"平方公分\")"
   ]
  },
  {
   "cell_type": "code",
   "execution_count": 15,
   "metadata": {},
   "outputs": [
    {
     "name": "stdout",
     "output_type": "stream",
     "text": [
      "圓周率： 3.0 ；角度為： 171.89\n"
     ]
    }
   ],
   "source": [
    "pi = float(input(\"請輸入圓周率：\"))\n",
    "degree = math.degrees(pi)\n",
    "print(\"圓周率：\", round(pi,2) ,\"；角度為：\", round(degree,2))"
   ]
  }
 ],
 "metadata": {
  "kernelspec": {
   "display_name": "base",
   "language": "python",
   "name": "python3"
  },
  "language_info": {
   "codemirror_mode": {
    "name": "ipython",
    "version": 3
   },
   "file_extension": ".py",
   "mimetype": "text/x-python",
   "name": "python",
   "nbconvert_exporter": "python",
   "pygments_lexer": "ipython3",
   "version": "3.10.9"
  }
 },
 "nbformat": 4,
 "nbformat_minor": 2
}
