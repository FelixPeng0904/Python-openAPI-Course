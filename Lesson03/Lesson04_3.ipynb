{
 "cells": [
  {
   "cell_type": "code",
   "execution_count": 55,
   "metadata": {},
   "outputs": [
    {
     "name": "stdout",
     "output_type": "stream",
     "text": [
      "總計總數為 30\n"
     ]
    }
   ],
   "source": [
    "n = 0\n",
    "i = int(input(\"請輸入起始數字\"))\n",
    "j = int(input(\"請輸入結束數字\"))\n",
    "for i in range(i,j+1):\n",
    "    n += i\n",
    "print(\"總計總數為\",n)   "
   ]
  },
  {
   "cell_type": "code",
   "execution_count": 69,
   "metadata": {},
   "outputs": [
    {
     "name": "stdout",
     "output_type": "stream",
     "text": [
      "你輸入的起始數字為 20\n",
      "你輸入的結束數字為 22\n",
      "區間整數加總為 63\n"
     ]
    }
   ],
   "source": [
    "# 有疑問 為何一定要 n=0 這個項目\n",
    "\n",
    "start_value = int(input(\"請輸入起始數字\"))\n",
    "end_value = int(input(\"請輸入結束數字\"))\n",
    "n = 0\n",
    "for i in range(start_value,end_value + 1):\n",
    "    n += i\n",
    "\n",
    "print(\"你輸入的起始數字為\",start_value)\n",
    "print(\"你輸入的結束數字為\",end_value)\n",
    "print(\"區間整數加總為\",n)"
   ]
  },
  {
   "cell_type": "code",
   "execution_count": 80,
   "metadata": {},
   "outputs": [
    {
     "name": "stdout",
     "output_type": "stream",
     "text": [
      "最終的 n 值為: 49\n"
     ]
    }
   ],
   "source": [
    "start_value = int(input(\"請輸入起始數值：\"))\n",
    "end_value = int(input(\"請輸入結束數值：\"))\n",
    "\n",
    "n = start_value\n",
    "\n",
    "for i in range(start_value +1, end_value + 1):\n",
    "    n += i\n",
    "\n",
    "print(\"最終的 n 值為:\", n)"
   ]
  }
 ],
 "metadata": {
  "kernelspec": {
   "display_name": "base",
   "language": "python",
   "name": "python3"
  },
  "language_info": {
   "codemirror_mode": {
    "name": "ipython",
    "version": 3
   },
   "file_extension": ".py",
   "mimetype": "text/x-python",
   "name": "python",
   "nbconvert_exporter": "python",
   "pygments_lexer": "ipython3",
   "version": "3.10.9"
  }
 },
 "nbformat": 4,
 "nbformat_minor": 2
}
