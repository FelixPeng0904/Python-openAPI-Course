{
 "cells": [
  {
   "cell_type": "code",
   "execution_count": 24,
   "metadata": {},
   "outputs": [
    {
     "data": {
      "text/plain": [
       "13"
      ]
     },
     "execution_count": 24,
     "metadata": {},
     "output_type": "execute_result"
    }
   ],
   "source": [
    "# 指定運算子\n",
    "n = 3\n",
    "n = n * 5\n",
    "n = n - 2\n",
    "n"
   ]
  },
  {
   "cell_type": "code",
   "execution_count": 21,
   "metadata": {},
   "outputs": [
    {
     "data": {
      "text/plain": [
       "51030"
      ]
     },
     "execution_count": 21,
     "metadata": {},
     "output_type": "execute_result"
    }
   ],
   "source": [
    "# 複合指定運算子\n",
    "\n",
    "n += n*2\n",
    "\n",
    "n"
   ]
  },
  {
   "cell_type": "code",
   "execution_count": 42,
   "metadata": {},
   "outputs": [
    {
     "data": {
      "text/plain": [
       "3"
      ]
     },
     "execution_count": 42,
     "metadata": {},
     "output_type": "execute_result"
    }
   ],
   "source": [
    "value = int(input('請輸入整數：'))\n",
    "value = value + 1\n",
    "value"
   ]
  },
  {
   "cell_type": "code",
   "execution_count": 43,
   "metadata": {},
   "outputs": [
    {
     "data": {
      "text/plain": [
       "int"
      ]
     },
     "execution_count": 43,
     "metadata": {},
     "output_type": "execute_result"
    }
   ],
   "source": [
    "type(value)"
   ]
  },
  {
   "cell_type": "code",
   "execution_count": 47,
   "metadata": {},
   "outputs": [
    {
     "data": {
      "text/plain": [
       "float"
      ]
     },
     "execution_count": 47,
     "metadata": {},
     "output_type": "execute_result"
    }
   ],
   "source": [
    "value = float(input(\"請輸入浮點數：\"))\n",
    "type(value)"
   ]
  },
  {
   "cell_type": "code",
   "execution_count": 50,
   "metadata": {},
   "outputs": [
    {
     "name": "stdout",
     "output_type": "stream",
     "text": [
      "矩形的寬： 3.0\n",
      "矩形的高： 4.4\n",
      "矩形面積為： 13.200000000000001 平方公分\n"
     ]
    }
   ],
   "source": [
    "# 請輸入矩形的寬,高,計算面積\n",
    "width = float(input(\"請輸入寬:\"))\n",
    "height = float(input(\"請輸入高：\"))\n",
    "print(\"矩形的寬：\",width)\n",
    "print(\"矩形的高：\",height)\n",
    "print(\"矩形面積為：\", width * height, \"平方公分\")"
   ]
  },
  {
   "cell_type": "code",
   "execution_count": 2,
   "metadata": {},
   "outputs": [
    {
     "name": "stdout",
     "output_type": "stream",
     "text": [
      "您的BMI值為： 27.11\n"
     ]
    }
   ],
   "source": [
    "#作業01 請輸入身高(cm),體重(kg),計算BMI值\n",
    "tall = int(input(\"請輸入身高(cm)：\"))\n",
    "weight = float(input(\"請輸入體重(kg)：\"))\n",
    "print(\"您的BMI值為：\", round(weight / (tall/100)**2,2))\n"
   ]
  },
  {
   "cell_type": "code",
   "execution_count": 64,
   "metadata": {},
   "outputs": [
    {
     "name": "stdout",
     "output_type": "stream",
     "text": [
      "你的BMI為 2.46 屬於:過輕\n"
     ]
    }
   ],
   "source": [
    "try:\n",
    "    height_cm = float(input(\"請輸入身高(cm):\"))\n",
    "    weight_kg = float(input(\"請輸入體重(kg):\"))\n",
    "\n",
    "    height_m = height_cm/100\n",
    "\n",
    "    bmi = round(weight_kg / height_m **2 , 2)\n",
    "\n",
    "    if 35 <= bmi:\n",
    "        print(\"你的BMI為\",bmi,\";屬於:重度肥胖\")\n",
    "    elif 30<= bmi <35:\n",
    "        print(\"你的BMI為\",bmi,\"屬於:中度肥胖\")\n",
    "    elif 27 <= bmi < 30:\n",
    "        print(\"你的BMI為\",bmi,\"屬於:輕度肥胖\")\n",
    "    elif  24 <= bmi < 27:\n",
    "        print(\"你的BMI為\",bmi,\"屬於:過重\")\n",
    "    elif 18.5 <= bmi < 24:\n",
    "        print(\"你的BMI為\",bmi,\"屬於:標準範圍\")\n",
    "    elif bmi < 18.5:\n",
    "        print(\"你的BMI為\",bmi,\"屬於:過輕\")\n",
    "except:\n",
    "    print(\"請不要輸入非數字資料，請重新輸入\")\n",
    "\n"
   ]
  },
  {
   "cell_type": "code",
   "execution_count": 11,
   "metadata": {},
   "outputs": [
    {
     "ename": "ModuleNotFoundError",
     "evalue": "No module named 'pyinputplus'",
     "output_type": "error",
     "traceback": [
      "\u001b[0;31m---------------------------------------------------------------------------\u001b[0m",
      "\u001b[0;31mModuleNotFoundError\u001b[0m                       Traceback (most recent call last)",
      "Cell \u001b[0;32mIn[11], line 2\u001b[0m\n\u001b[1;32m      1\u001b[0m \u001b[38;5;66;03m# 其他同學的參考答案\u001b[39;00m\n\u001b[0;32m----> 2\u001b[0m \u001b[38;5;28;01mimport\u001b[39;00m \u001b[38;5;21;01mpyinputplus\u001b[39;00m \u001b[38;5;28;01mas\u001b[39;00m \u001b[38;5;21;01mpyip\u001b[39;00m\n\u001b[1;32m      4\u001b[0m height_cm \u001b[38;5;241m=\u001b[39m pyip\u001b[38;5;241m.\u001b[39minputInt(\u001b[38;5;124m\"\u001b[39m\u001b[38;5;124m請輸入身高cm:\u001b[39m\u001b[38;5;124m\"\u001b[39m)\n\u001b[1;32m      5\u001b[0m \u001b[38;5;28mprint\u001b[39m(height_cm)\n",
      "\u001b[0;31mModuleNotFoundError\u001b[0m: No module named 'pyinputplus'"
     ]
    }
   ],
   "source": [
    "# 其他同學的參考答案\n",
    "import pyinputplus as pyip\n",
    "\n",
    "height_cm = pyip.inputInt(\"請輸入身高cm:\")\n",
    "print(height_cm)\n",
    "weight_kg= pyip.inputInt(\"請輸入體重kg:\")\n",
    "print(weight_kg)\n",
    "\n",
    "height_m = height_cm / 100\n",
    "bmi = weight_kg / (height_m ** 2)\n",
    "\n",
    "if bmi < 18.5:\n",
    "    message = \"太輕\"\n",
    "elif 18.5 <= bmi < 25:\n",
    "    message = \"正常\"\n",
    "elif 25 <= bmi < 30:\n",
    "    message = \"過重\"\n",
    "else:\n",
    "    message = \"肥胖\"\n",
    "\n",
    "print(bmi,message)"
   ]
  },
  {
   "cell_type": "code",
   "execution_count": null,
   "metadata": {},
   "outputs": [],
   "source": [
    "# 作業03: 計算 BMI 值\n",
    "# BMI < 18.5 體重過輕\n",
    "# 18.5 <= BMI < 24 正常範圍\n",
    "# 24 <= BMI < 27 過重\n",
    "# 27 <= BMI < 30 輕度肥胖\n",
    "# 30 <= BMI < 35 中度肥胖\n",
    "# BMI >= 35 重度肥胖\n",
    "\n"
   ]
  },
  {
   "cell_type": "code",
   "execution_count": 59,
   "metadata": {},
   "outputs": [
    {
     "name": "stdout",
     "output_type": "stream",
     "text": [
      "請重新輸入數字\n"
     ]
    }
   ],
   "source": [
    "try:\n",
    "    height_cm = float(input(\"請輸入身高(cm):\"))\n",
    "    weight_kg = int(input(\"請輸入體重(kg):\"))\n",
    "    \n",
    "    print( weight_kg + height_cm)\n",
    "except:\n",
    "    print(\"請重新輸入數字\")"
   ]
  },
  {
   "cell_type": "code",
   "execution_count": 56,
   "metadata": {},
   "outputs": [
    {
     "name": "stdout",
     "output_type": "stream",
     "text": [
      "請重新輸入數字\n"
     ]
    }
   ],
   "source": [
    "try:\n",
    "    height_cm = float(input(\"請輸入身高(cm)\"))\n",
    "    weight_kg = float(input(\"請輸入體重(kg)\"))\n",
    "\n",
    "    height_m = height_cm /100\n",
    "    bmi = weight_kg/height_m**2\n",
    "    print(\"你的BMI為\",round(bmi,2))\n",
    "except:\n",
    "    print(\"請重新輸入數字\")"
   ]
  }
 ],
 "metadata": {
  "kernelspec": {
   "display_name": "base",
   "language": "python",
   "name": "python3"
  },
  "language_info": {
   "codemirror_mode": {
    "name": "ipython",
    "version": 3
   },
   "file_extension": ".py",
   "mimetype": "text/x-python",
   "name": "python",
   "nbconvert_exporter": "python",
   "pygments_lexer": "ipython3",
   "version": "3.10.9"
  }
 },
 "nbformat": 4,
 "nbformat_minor": 2
}
