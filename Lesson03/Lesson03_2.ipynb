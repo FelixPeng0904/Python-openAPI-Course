{
 "cells": [
  {
   "cell_type": "code",
   "execution_count": 24,
   "metadata": {},
   "outputs": [
    {
     "data": {
      "text/plain": [
       "13"
      ]
     },
     "execution_count": 24,
     "metadata": {},
     "output_type": "execute_result"
    }
   ],
   "source": [
    "# 指定運算子\n",
    "n = 3\n",
    "n = n * 5\n",
    "n = n - 2\n",
    "n"
   ]
  },
  {
   "cell_type": "code",
   "execution_count": 21,
   "metadata": {},
   "outputs": [
    {
     "data": {
      "text/plain": [
       "51030"
      ]
     },
     "execution_count": 21,
     "metadata": {},
     "output_type": "execute_result"
    }
   ],
   "source": [
    "# 複合指定運算子\n",
    "\n",
    "n += n*2\n",
    "\n",
    "n"
   ]
  },
  {
   "cell_type": "code",
   "execution_count": 42,
   "metadata": {},
   "outputs": [
    {
     "data": {
      "text/plain": [
       "3"
      ]
     },
     "execution_count": 42,
     "metadata": {},
     "output_type": "execute_result"
    }
   ],
   "source": [
    "value = int(input('請輸入整數：'))\n",
    "value = value + 1\n",
    "value"
   ]
  },
  {
   "cell_type": "code",
   "execution_count": 43,
   "metadata": {},
   "outputs": [
    {
     "data": {
      "text/plain": [
       "int"
      ]
     },
     "execution_count": 43,
     "metadata": {},
     "output_type": "execute_result"
    }
   ],
   "source": [
    "type(value)"
   ]
  },
  {
   "cell_type": "code",
   "execution_count": 47,
   "metadata": {},
   "outputs": [
    {
     "data": {
      "text/plain": [
       "float"
      ]
     },
     "execution_count": 47,
     "metadata": {},
     "output_type": "execute_result"
    }
   ],
   "source": [
    "value = float(input(\"請輸入浮點數：\"))\n",
    "type(value)"
   ]
  },
  {
   "cell_type": "code",
   "execution_count": 50,
   "metadata": {},
   "outputs": [
    {
     "name": "stdout",
     "output_type": "stream",
     "text": [
      "矩形的寬： 3.0\n",
      "矩形的高： 4.4\n",
      "矩形面積為： 13.200000000000001 平方公分\n"
     ]
    }
   ],
   "source": [
    "# 請輸入矩形的寬,高,計算面積\n",
    "width = float(input(\"請輸入寬:\"))\n",
    "height = float(input(\"請輸入高：\"))\n",
    "print(\"矩形的寬：\",width)\n",
    "print(\"矩形的高：\",height)\n",
    "print(\"矩形面積為：\", width * height, \"平方公分\")"
   ]
  },
  {
   "cell_type": "code",
   "execution_count": 52,
   "metadata": {},
   "outputs": [
    {
     "name": "stdout",
     "output_type": "stream",
     "text": [
      "您的BMI值為： 27.02379885932694\n"
     ]
    }
   ],
   "source": [
    "#作業01 請輸入身高(cm),體重(kg),計算BMI值\n",
    "tall = int(input(\"請輸入身高(cm)：\"))\n",
    "weight = float(input(\"請輸入體重(kg)：\"))\n",
    "print(\"您的BMI值為：\", weight / (tall/100)**2)\n"
   ]
  },
  {
   "cell_type": "code",
   "execution_count": null,
   "metadata": {},
   "outputs": [],
   "source": [
    "# 其他同學的參考答案\n",
    "import pyinputplus as pyip\n",
    "\n",
    "height_cm = pyip.inputInt(\"請輸入身高cm:\")\n",
    "print(height_cm)\n",
    "weight_kg= pyip.inputInt(\"請輸入體重kg:\")\n",
    "print(weight_kg)\n",
    "\n",
    "height_m = height_cm / 100\n",
    "bmi = weight_kg / (height_m ** 2)\n",
    "\n",
    "if bmi < 18.5:\n",
    "message = \"太輕\"\n",
    "elif 18.5 <= bmi < 25:\n",
    "message = \"正常\"\n",
    "elif 25 <= bmi < 30:\n",
    "message = \"過重\"\n",
    "else:\n",
    "message = \"肥胖\"\n",
    "\n",
    "print(bmi,message)"
   ]
  }
 ],
 "metadata": {
  "kernelspec": {
   "display_name": "base",
   "language": "python",
   "name": "python3"
  },
  "language_info": {
   "codemirror_mode": {
    "name": "ipython",
    "version": 3
   },
   "file_extension": ".py",
   "mimetype": "text/x-python",
   "name": "python",
   "nbconvert_exporter": "python",
   "pygments_lexer": "ipython3",
   "version": "3.10.9"
  }
 },
 "nbformat": 4,
 "nbformat_minor": 2
}
