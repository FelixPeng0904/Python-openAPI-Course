{
 "cells": [
  {
   "cell_type": "code",
   "execution_count": 1,
   "metadata": {},
   "outputs": [
    {
     "data": {
      "text/plain": [
       "False"
      ]
     },
     "execution_count": 1,
     "metadata": {},
     "output_type": "execute_result"
    }
   ],
   "source": [
    "5!=5"
   ]
  },
  {
   "cell_type": "code",
   "execution_count": 7,
   "metadata": {},
   "outputs": [
    {
     "name": "stdout",
     "output_type": "stream",
     "text": [
      "你的年齡 33\n",
      "已成年\n",
      "可以投票\n"
     ]
    }
   ],
   "source": [
    "age = int(input(\"請輸入年齡：\"))\n",
    "print(\"你的年齡\", age)\n",
    "if age >= 18:\n",
    "    print(\"已成年\")\n",
    "    print(\"可以投票\")\n",
    "else:\n",
    "    print(\"未成年\")\n",
    "    print(\"不可以投票\")"
   ]
  },
  {
   "cell_type": "code",
   "execution_count": 5,
   "metadata": {},
   "outputs": [
    {
     "ename": "ValueError",
     "evalue": "invalid literal for int() with base 10: 'b'",
     "output_type": "error",
     "traceback": [
      "\u001b[0;31m---------------------------------------------------------------------------\u001b[0m",
      "\u001b[0;31mValueError\u001b[0m                                Traceback (most recent call last)",
      "Cell \u001b[0;32mIn[5], line 6\u001b[0m\n\u001b[1;32m      1\u001b[0m \u001b[38;5;66;03m# 學生總分為 300\u001b[39;00m\n\u001b[1;32m      2\u001b[0m \u001b[38;5;66;03m# 檢查輸入必須 300 分以內\u001b[39;00m\n\u001b[1;32m      3\u001b[0m \u001b[38;5;66;03m# 有些學生可以加分 5%\u001b[39;00m\n\u001b[1;32m      4\u001b[0m \u001b[38;5;66;03m# 如果加分超過 300, 就以 300 分為準\u001b[39;00m\n\u001b[0;32m----> 6\u001b[0m scores \u001b[38;5;241m=\u001b[39m \u001b[38;5;28;43mint\u001b[39;49m\u001b[43m(\u001b[49m\u001b[38;5;28;43minput\u001b[39;49m\u001b[43m(\u001b[49m\u001b[38;5;124;43m\"\u001b[39;49m\u001b[38;5;124;43m請輸入學生分數(最高300)\u001b[39;49m\u001b[38;5;124;43m\"\u001b[39;49m\u001b[43m)\u001b[49m\u001b[43m)\u001b[49m\n\u001b[1;32m      7\u001b[0m \u001b[38;5;28;01mif\u001b[39;00m scores \u001b[38;5;241m<\u001b[39m\u001b[38;5;241m=\u001b[39m \u001b[38;5;241m300\u001b[39m:\n\u001b[1;32m      8\u001b[0m     is_add \u001b[38;5;241m=\u001b[39m \u001b[38;5;28minput\u001b[39m(\u001b[38;5;124m\"\u001b[39m\u001b[38;5;124m學生是否符合條件?(Y/N)\u001b[39m\u001b[38;5;124m\"\u001b[39m)\n",
      "\u001b[0;31mValueError\u001b[0m: invalid literal for int() with base 10: 'b'"
     ]
    }
   ],
   "source": [
    "# 學生總分為 300\n",
    "# 檢查輸入必須 300 分以內\n",
    "# 有些學生可以加分 5%\n",
    "# 如果加分超過 300, 就以 300 分為準\n",
    "\n",
    "scores = int(input(\"請輸入學生分數(最高300)\"))\n",
    "if scores <= 300:\n",
    "    is_add = input(\"學生是否符合條件?(Y/N)\")\n",
    "    #巢狀判斷\n",
    "    if(is_add == \"y\"):\n",
    "        scores *= 1.05\n",
    "        if scores > 300:\n",
    "            scores = 300\n",
    "    print(\"你的分數為 \",round(scores,1))\n",
    "else:\n",
    "    print(\"你輸入為\",scores,\"超過可輸入上限 300，輸入錯誤！請重新輸入\")\n",
    "\n"
   ]
  },
  {
   "cell_type": "code",
   "execution_count": 4,
   "metadata": {},
   "outputs": [
    {
     "name": "stdout",
     "output_type": "stream",
     "text": [
      "不要鬧，請輸入“數字”！\n"
     ]
    }
   ],
   "source": [
    "# 學生總分為 300\n",
    "# 檢查輸入必須 300 分以內\n",
    "# 有些學生可以加分 5%\n",
    "# 如果加分超過 300, 就以 300 分為準\n",
    "try:\n",
    "    scores = int(input(\"請輸入學生分數(最高300)\"))\n",
    "    if scores <= 300 and scores >= 0:\n",
    "        is_add = input(\"學生是否符合條件?(Y/N)\")\n",
    "        #巢狀判斷\n",
    "        if(is_add == \"y\"):\n",
    "            scores *= 1.05\n",
    "            if scores > 300:\n",
    "                scores = 300\n",
    "        print(\"你的分數為 \",round(scores,1))\n",
    "    else:\n",
    "        print(\"你輸入為\",scores,\"超過可輸入上限 300，輸入錯誤！請重新輸入\")\n",
    "except:\n",
    "    print(\"不要鬧，請輸入“數字”！\")\n"
   ]
  },
  {
   "cell_type": "code",
   "execution_count": 41,
   "metadata": {},
   "outputs": [
    {
     "name": "stdout",
     "output_type": "stream",
     "text": [
      "失敗\n"
     ]
    }
   ],
   "source": [
    "distance = float(input(\"請輸入投射距離:\"))\n",
    "#巢狀判斷\n",
    "if distance <= 100:\n",
    "    if distance >= 80:\n",
    "        print(\"成功\")\n",
    "    else:\n",
    "        print(\"失敗\")\n",
    "else:\n",
    "    print(\"失敗\")"
   ]
  },
  {
   "cell_type": "code",
   "execution_count": 51,
   "metadata": {},
   "outputs": [
    {
     "name": "stdout",
     "output_type": "stream",
     "text": [
      "失敗\n"
     ]
    }
   ],
   "source": [
    "distance = float(input(\"請輸入投射距離:\"))\n",
    "#使用邏輯運算子(and / or)\n",
    "if distance >= 80 and distance <= 100:\n",
    "    print(\"成功\")\n",
    "else:\n",
    "    print(\"失敗\")"
   ]
  },
  {
   "cell_type": "code",
   "execution_count": 60,
   "metadata": {},
   "outputs": [
    {
     "name": "stdout",
     "output_type": "stream",
     "text": [
      "成功\n"
     ]
    }
   ],
   "source": [
    "scores = float(input(\"請輸入猜測數據\"))\n",
    "\n",
    "if scores < 80 or scores > 100:\n",
    "    print(\"失敗\")\n",
    "else:\n",
    "    print(\"成功\")"
   ]
  },
  {
   "cell_type": "code",
   "execution_count": null,
   "metadata": {},
   "outputs": [],
   "source": [
    "if(is_add == \"y\"):\n",
    "    scores *= 1.05\n",
    "    print(\"符合加權條件\")\n",
    "    print(\"你輸入的分數為 \", scores)\n",
    "    print(\"加權後的分數為 \", round(scores,1))\n",
    "    if scores > 300:\n",
    "        scores = 300\n",
    "else:\n",
    "    print(\"未符合加權條件\")\n",
    "    print(\"你輸入的分數為 \", scores)"
   ]
  }
 ],
 "metadata": {
  "kernelspec": {
   "display_name": "base",
   "language": "python",
   "name": "python3"
  },
  "language_info": {
   "codemirror_mode": {
    "name": "ipython",
    "version": 3
   },
   "file_extension": ".py",
   "mimetype": "text/x-python",
   "name": "python",
   "nbconvert_exporter": "python",
   "pygments_lexer": "ipython3",
   "version": "3.10.9"
  }
 },
 "nbformat": 4,
 "nbformat_minor": 2
}
